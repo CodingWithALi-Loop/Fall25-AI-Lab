{
 "cells": [
  {
   "cell_type": "code",
   "execution_count": 3,
   "id": "c166065b",
   "metadata": {},
   "outputs": [
    {
     "name": "stdout",
     "output_type": "stream",
     "text": [
      "Welcome to FIZZBUZZ Game >>>> 😎\n",
      "Your Turn: 1\n",
      "Computer Turn: 2\n",
      "Your Turn: FIZZ\n",
      "Computer Turn: 4\n",
      "Your Turn: BUZZ\n",
      "Computer Turn: FIZZ\n",
      "Your Turn: 7\n",
      "Computer Turn: 8\n",
      "Your Turn: 10\n",
      "You Lose !\n",
      "Corect Valus is FIZZ\n"
     ]
    }
   ],
   "source": [
    "def Fizz_Buzz_Game (number):\n",
    "    if number % 3 == 0 and number % 5 == 0:\n",
    "        return \"FIZZBUZZ\"\n",
    "    elif number % 3 == 0:\n",
    "        return \"FIZZ\"\n",
    "    elif number % 5 == 0:\n",
    "        return \"BUZZ\"\n",
    "    else:\n",
    "        return str(number)\n",
    "print(\"Welcome to FIZZBUZZ Game >>>> 😎\") \n",
    "for number in range (1,21):\n",
    "    if number % 2 == 1:\n",
    "        guess = input(f\"Your Turn: {number} \").upper()\n",
    "        print (f\"Your Turn: {guess}\")\n",
    "        if guess != Fizz_Buzz_Game(number):\n",
    "            print (\"You Lose !\")\n",
    "            print (f\"Corect Valus is {Fizz_Buzz_Game(number)}\")\n",
    "            break\n",
    "    else:\n",
    "        print(f\"Computer Turn: {Fizz_Buzz_Game(number)}\")\n"
   ]
  },
  {
   "cell_type": "code",
   "execution_count": null,
   "id": "cf5817b3",
   "metadata": {},
   "outputs": [],
   "source": []
  }
 ],
 "metadata": {
  "kernelspec": {
   "display_name": "base",
   "language": "python",
   "name": "python3"
  },
  "language_info": {
   "codemirror_mode": {
    "name": "ipython",
    "version": 3
   },
   "file_extension": ".py",
   "mimetype": "text/x-python",
   "name": "python",
   "nbconvert_exporter": "python",
   "pygments_lexer": "ipython3",
   "version": "3.13.5"
  }
 },
 "nbformat": 4,
 "nbformat_minor": 5
}
